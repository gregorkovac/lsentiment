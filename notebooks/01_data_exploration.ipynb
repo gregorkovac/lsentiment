{
 "cells": [
  {
   "cell_type": "markdown",
   "id": "2900d33b",
   "metadata": {},
   "source": [
    "# Data exploration"
   ]
  },
  {
   "cell_type": "code",
   "execution_count": 76,
   "id": "dc679d75",
   "metadata": {},
   "outputs": [
    {
     "name": "stderr",
     "output_type": "stream",
     "text": [
      "[nltk_data] Downloading package stopwords to\n",
      "[nltk_data]     /Users/gregor/nltk_data...\n",
      "[nltk_data]   Package stopwords is already up-to-date!\n"
     ]
    }
   ],
   "source": [
    "import pandas as pd\n",
    "import matplotlib.pyplot as plt\n",
    "import matplotlib as mpl\n",
    "import numpy as np\n",
    "import re\n",
    "import nltk\n",
    "from collections import Counter\n",
    "import os\n",
    "from datetime import datetime\n",
    "from tqdm import tqdm\n",
    "\n",
    "nltk.download(\"stopwords\")\n",
    "stop_words = set(nltk.corpus.stopwords.words(\"english\"))\n",
    "\n",
    "mpl.rcParams['text.usetex'] = True\n",
    "mpl.rcParams['font.family'] = 'serif'"
   ]
  },
  {
   "cell_type": "markdown",
   "id": "f2a814e2",
   "metadata": {},
   "source": [
    "## Sentiment140"
   ]
  },
  {
   "cell_type": "code",
   "execution_count": 4,
   "id": "e5c54b67",
   "metadata": {},
   "outputs": [
    {
     "data": {
      "text/html": [
       "<div>\n",
       "<style scoped>\n",
       "    .dataframe tbody tr th:only-of-type {\n",
       "        vertical-align: middle;\n",
       "    }\n",
       "\n",
       "    .dataframe tbody tr th {\n",
       "        vertical-align: top;\n",
       "    }\n",
       "\n",
       "    .dataframe thead th {\n",
       "        text-align: right;\n",
       "    }\n",
       "</style>\n",
       "<table border=\"1\" class=\"dataframe\">\n",
       "  <thead>\n",
       "    <tr style=\"text-align: right;\">\n",
       "      <th></th>\n",
       "      <th>target</th>\n",
       "      <th>ids</th>\n",
       "      <th>date</th>\n",
       "      <th>flag</th>\n",
       "      <th>user</th>\n",
       "      <th>text</th>\n",
       "    </tr>\n",
       "  </thead>\n",
       "  <tbody>\n",
       "    <tr>\n",
       "      <th>0</th>\n",
       "      <td>0</td>\n",
       "      <td>1467810369</td>\n",
       "      <td>Mon Apr 06 22:19:45 PDT 2009</td>\n",
       "      <td>NO_QUERY</td>\n",
       "      <td>_TheSpecialOne_</td>\n",
       "      <td>@switchfoot http://twitpic.com/2y1zl - Awww, t...</td>\n",
       "    </tr>\n",
       "    <tr>\n",
       "      <th>1</th>\n",
       "      <td>0</td>\n",
       "      <td>1467810672</td>\n",
       "      <td>Mon Apr 06 22:19:49 PDT 2009</td>\n",
       "      <td>NO_QUERY</td>\n",
       "      <td>scotthamilton</td>\n",
       "      <td>is upset that he can't update his Facebook by ...</td>\n",
       "    </tr>\n",
       "    <tr>\n",
       "      <th>2</th>\n",
       "      <td>0</td>\n",
       "      <td>1467810917</td>\n",
       "      <td>Mon Apr 06 22:19:53 PDT 2009</td>\n",
       "      <td>NO_QUERY</td>\n",
       "      <td>mattycus</td>\n",
       "      <td>@Kenichan I dived many times for the ball. Man...</td>\n",
       "    </tr>\n",
       "    <tr>\n",
       "      <th>3</th>\n",
       "      <td>0</td>\n",
       "      <td>1467811184</td>\n",
       "      <td>Mon Apr 06 22:19:57 PDT 2009</td>\n",
       "      <td>NO_QUERY</td>\n",
       "      <td>ElleCTF</td>\n",
       "      <td>my whole body feels itchy and like its on fire</td>\n",
       "    </tr>\n",
       "    <tr>\n",
       "      <th>4</th>\n",
       "      <td>0</td>\n",
       "      <td>1467811193</td>\n",
       "      <td>Mon Apr 06 22:19:57 PDT 2009</td>\n",
       "      <td>NO_QUERY</td>\n",
       "      <td>Karoli</td>\n",
       "      <td>@nationwideclass no, it's not behaving at all....</td>\n",
       "    </tr>\n",
       "  </tbody>\n",
       "</table>\n",
       "</div>"
      ],
      "text/plain": [
       "   target         ids                          date      flag  \\\n",
       "0       0  1467810369  Mon Apr 06 22:19:45 PDT 2009  NO_QUERY   \n",
       "1       0  1467810672  Mon Apr 06 22:19:49 PDT 2009  NO_QUERY   \n",
       "2       0  1467810917  Mon Apr 06 22:19:53 PDT 2009  NO_QUERY   \n",
       "3       0  1467811184  Mon Apr 06 22:19:57 PDT 2009  NO_QUERY   \n",
       "4       0  1467811193  Mon Apr 06 22:19:57 PDT 2009  NO_QUERY   \n",
       "\n",
       "              user                                               text  \n",
       "0  _TheSpecialOne_  @switchfoot http://twitpic.com/2y1zl - Awww, t...  \n",
       "1    scotthamilton  is upset that he can't update his Facebook by ...  \n",
       "2         mattycus  @Kenichan I dived many times for the ball. Man...  \n",
       "3          ElleCTF    my whole body feels itchy and like its on fire   \n",
       "4           Karoli  @nationwideclass no, it's not behaving at all....  "
      ]
     },
     "execution_count": 4,
     "metadata": {},
     "output_type": "execute_result"
    }
   ],
   "source": [
    "df = pd.read_csv(\"../data/sentiment140/training.1600000.processed.noemoticon.csv\", encoding='latin1', header=None)\n",
    "\n",
    "# Manually add columns since they are not present in the original csv\n",
    "df.columns = [\"target\", \"ids\", \"date\", \"flag\", \"user\", \"text\"]\n",
    "\n",
    "df.head()"
   ]
  },
  {
   "cell_type": "code",
   "execution_count": 5,
   "id": "513b4a88",
   "metadata": {},
   "outputs": [
    {
     "name": "stdout",
     "output_type": "stream",
     "text": [
      "Number of rows: 1600000\n"
     ]
    }
   ],
   "source": [
    "print(f\"Number of rows: {len(df)}\")"
   ]
  },
  {
   "cell_type": "code",
   "execution_count": 6,
   "id": "4db5ead0",
   "metadata": {},
   "outputs": [
    {
     "data": {
      "text/plain": [
       "target     int64\n",
       "ids        int64\n",
       "date      object\n",
       "flag      object\n",
       "user      object\n",
       "text      object\n",
       "dtype: object"
      ]
     },
     "execution_count": 6,
     "metadata": {},
     "output_type": "execute_result"
    }
   ],
   "source": [
    "df.dtypes"
   ]
  },
  {
   "cell_type": "markdown",
   "id": "e85a4446",
   "metadata": {},
   "source": [
    "### `target`"
   ]
  },
  {
   "cell_type": "code",
   "execution_count": 7,
   "id": "b4e37690",
   "metadata": {},
   "outputs": [
    {
     "name": "stdout",
     "output_type": "stream",
     "text": [
      "Unique target values: [0 4]\n"
     ]
    }
   ],
   "source": [
    "print(f\"Unique target values: {df[\"target\"].unique()}\")"
   ]
  },
  {
   "cell_type": "markdown",
   "id": "99111d89",
   "metadata": {},
   "source": [
    "The target variable (sentiment) only has values 0 (negative) and 4 (positive), even though 2 (neutral) should be present according to the Kaggle page. We will work with this data, but will transform 4 to 1 in the preprocessing."
   ]
  },
  {
   "cell_type": "code",
   "execution_count": 50,
   "id": "843685f7",
   "metadata": {},
   "outputs": [
    {
     "data": {
      "text/plain": [
       "target\n",
       "0    800000\n",
       "4    800000\n",
       "Name: count, dtype: int64"
      ]
     },
     "execution_count": 50,
     "metadata": {},
     "output_type": "execute_result"
    }
   ],
   "source": [
    "df[\"target\"].value_counts()"
   ]
  },
  {
   "cell_type": "markdown",
   "id": "c493f976",
   "metadata": {},
   "source": [
    "### `ids`"
   ]
  },
  {
   "cell_type": "code",
   "execution_count": 8,
   "id": "35ddabfe",
   "metadata": {},
   "outputs": [
    {
     "name": "stdout",
     "output_type": "stream",
     "text": [
      "Unique ids values: 1598315\n",
      "Ids range: [1467810369, 2329205794]\n"
     ]
    }
   ],
   "source": [
    "print(f\"Unique ids values: {df[\"ids\"].nunique()}\")\n",
    "print(f\"Ids range: [{df[\"ids\"].min()}, {df[\"ids\"].max()}]\")"
   ]
  },
  {
   "cell_type": "code",
   "execution_count": 41,
   "id": "f4764ba5",
   "metadata": {},
   "outputs": [
    {
     "data": {
      "image/png": "[encoded data removed]",
      "text/plain": [
       "<Figure size 640x480 with 1 Axes>"
      ]
     },
     "metadata": {},
     "output_type": "display_data"
    }
   ],
   "source": [
    "plt.hist(df[\"ids\"], bins=20, color=\"black\")\n",
    "plt.title(\"Histogram of ids\")\n",
    "plt.show()"
   ]
  },
  {
   "cell_type": "code",
   "execution_count": 10,
   "id": "98c639f9",
   "metadata": {},
   "outputs": [
    {
     "name": "stdout",
     "output_type": "stream",
     "text": [
      "Number of non-unique ids: 1685\n"
     ]
    }
   ],
   "source": [
    "counts = df[\"ids\"].value_counts()\n",
    "non_unique = counts[counts != 1]\n",
    "print(f\"Number of non-unique ids: {len(non_unique)}\")"
   ]
  },
  {
   "cell_type": "markdown",
   "id": "a4ae8c79",
   "metadata": {},
   "source": [
    "We have multiple rows with duplicate ids."
   ]
  },
  {
   "cell_type": "code",
   "execution_count": 11,
   "id": "5df1356f",
   "metadata": {},
   "outputs": [
    {
     "name": "stdout",
     "output_type": "stream",
     "text": [
      "target    False\n",
      "ids        True\n",
      "date       True\n",
      "flag       True\n",
      "user       True\n",
      "text       True\n",
      "dtype: bool\n",
      "\n",
      "Had an injection today. Not fun  the rrst of the school day has been good. Tonight i am going dancing yey \n"
     ]
    }
   ],
   "source": [
    "example = df[df[\"ids\"] == non_unique.index[0]]\n",
    "\n",
    "print(example.iloc[0] == example.iloc[1])\n",
    "print()\n",
    "print(example.iloc[0][\"text\"])"
   ]
  },
  {
   "cell_type": "markdown",
   "id": "e71963a2",
   "metadata": {},
   "source": [
    "For this example, all values are the same except for the sentiment."
   ]
  },
  {
   "cell_type": "code",
   "execution_count": 12,
   "id": "21a47cb9",
   "metadata": {},
   "outputs": [
    {
     "name": "stdout",
     "output_type": "stream",
     "text": [
      "Distribution of id duplicates: (array([2]), array([1685]))\n",
      "Non-matchin columns counts: {'target': 1685, 'ids': 0, 'date': 0, 'flag': 0, 'user': 0, 'text': 0}\n"
     ]
    }
   ],
   "source": [
    "non_match_counts = {k: 0 for k in df.columns}\n",
    "lens = []\n",
    "\n",
    "for i in non_unique.index:\n",
    "    examples = df[df[\"ids\"] == non_unique.index[0]]\n",
    "    \n",
    "    lens.append(len(examples))\n",
    "\n",
    "    for c in df.columns:\n",
    "        if len(example[c].unique()) != 1:\n",
    "            non_match_counts[c] += 1\n",
    "\n",
    "print(f\"Distribution of id duplicates: {np.unique(lens, return_counts=True)}\")\n",
    "print(f\"Non-matchin columns counts: {non_match_counts}\")"
   ]
  },
  {
   "cell_type": "markdown",
   "id": "9f42b3d3",
   "metadata": {},
   "source": [
    "We can see that for all duplicate ids appear at most twice and only the target differs. From this we can conclude that these examples have a neutral sentiment, which we will take into account in preprocessing."
   ]
  },
  {
   "cell_type": "markdown",
   "id": "3970e6af",
   "metadata": {},
   "source": [
    "### `date`"
   ]
  },
  {
   "cell_type": "code",
   "execution_count": 52,
   "id": "1c6ed20c",
   "metadata": {},
   "outputs": [
    {
     "data": {
      "text/plain": [
       "0   2009-04-06 22:19:45\n",
       "1   2009-04-06 22:19:49\n",
       "2   2009-04-06 22:19:53\n",
       "3   2009-04-06 22:19:57\n",
       "4   2009-04-06 22:19:57\n",
       "Name: date, dtype: datetime64[ns]"
      ]
     },
     "execution_count": 52,
     "metadata": {},
     "output_type": "execute_result"
    }
   ],
   "source": [
    "date_clean = df['date'].str.replace('PDT', '', regex=False).str.strip()\n",
    "date_clean = pd.to_datetime(date_clean)\n",
    "\n",
    "df[\"date\"] = date_clean\n",
    "\n",
    "date_clean.head()"
   ]
  },
  {
   "cell_type": "code",
   "execution_count": 14,
   "id": "c2027421",
   "metadata": {},
   "outputs": [
    {
     "name": "stdout",
     "output_type": "stream",
     "text": [
      "Minimum date: 2009-04-06 22:19:45\n",
      "Maximum date: 2009-06-25 10:28:31\n"
     ]
    }
   ],
   "source": [
    "print(f\"Minimum date: {date_clean.min()}\")\n",
    "print(f\"Maximum date: {date_clean.max()}\")"
   ]
  },
  {
   "cell_type": "markdown",
   "id": "24a5ed3f",
   "metadata": {},
   "source": [
    "### `flag`"
   ]
  },
  {
   "cell_type": "code",
   "execution_count": 15,
   "id": "3fc2681e",
   "metadata": {},
   "outputs": [
    {
     "data": {
      "text/plain": [
       "array(['NO_QUERY'], dtype=object)"
      ]
     },
     "execution_count": 15,
     "metadata": {},
     "output_type": "execute_result"
    }
   ],
   "source": [
    "df[\"flag\"].unique()"
   ]
  },
  {
   "cell_type": "markdown",
   "id": "3adef67a",
   "metadata": {},
   "source": [
    "Flag can be removed, since it is constant"
   ]
  },
  {
   "cell_type": "markdown",
   "id": "016a5441",
   "metadata": {},
   "source": [
    "### `user`"
   ]
  },
  {
   "cell_type": "code",
   "execution_count": 16,
   "id": "d94bcd1c",
   "metadata": {},
   "outputs": [
    {
     "data": {
      "text/plain": [
       "user\n",
       "lost_dog           549\n",
       "webwoke            345\n",
       "tweetpet           310\n",
       "SallytheShizzle    281\n",
       "VioletsCRUK        279\n",
       "                  ... \n",
       "Laurendaly           1\n",
       "laughingstars        1\n",
       "jenniehager          1\n",
       "fosking              1\n",
       "ericDJ               1\n",
       "Name: count, Length: 659775, dtype: int64"
      ]
     },
     "execution_count": 16,
     "metadata": {},
     "output_type": "execute_result"
    }
   ],
   "source": [
    "df[\"user\"].value_counts()"
   ]
  },
  {
   "cell_type": "markdown",
   "id": "b9135043",
   "metadata": {},
   "source": [
    "### `text`"
   ]
  },
  {
   "cell_type": "code",
   "execution_count": 18,
   "id": "cea74428",
   "metadata": {},
   "outputs": [],
   "source": [
    "def clean_tweet(text):\n",
    "    # Lowercase\n",
    "    text = text.lower()\n",
    "\n",
    "    # Remove URLs\n",
    "    text = re.sub(r\"http\\S+\", \"\", text)\n",
    "\n",
    "    # Remove mentions\n",
    "    text = re.sub(r\"@\\w+\", \"\", text)\n",
    "\n",
    "    # Remove hashtags\n",
    "    text = re.sub(r\"#\\w+\", \"\", text)\n",
    "\n",
    "    # Remove punctuation\n",
    "    text = re.sub(r\"[^\\w\\s]\", \"\", text)\n",
    "\n",
    "    # Remove numbers\n",
    "    # text = re.sub(r\"\\d+\", \"\", text) \n",
    "\n",
    "    # Remove extra whitespaces\n",
    "    text = re.sub(r\"\\s+\", \" \", text).strip()\n",
    "\n",
    "    return text\n",
    "\n",
    "clean_text = df[\"text\"].apply(clean_tweet)"
   ]
  },
  {
   "cell_type": "code",
   "execution_count": 34,
   "id": "1bd0aa9c",
   "metadata": {},
   "outputs": [
    {
     "name": "stdout",
     "output_type": "stream",
     "text": [
      "Most common words and their counts:\n",
      "im\t177518\n",
      "good\t89397\n",
      "day\t82918\n",
      "get\t81487\n",
      "like\t77749\n",
      "go\t72908\n",
      "dont\t66928\n",
      "today\t64609\n",
      "going\t64089\n",
      "love\t63453\n",
      "work\t62763\n",
      "cant\t62600\n",
      "got\t60754\n",
      "time\t56106\n",
      "back\t55979\n",
      "lol\t55183\n",
      "u\t52794\n",
      "one\t52191\n",
      "know\t51197\n",
      "really\t49550\n"
     ]
    }
   ],
   "source": [
    "# Join all tweets into a list of words\n",
    "words = \" \".join(clean_text).split()\n",
    "\n",
    "# Remove stop words\n",
    "words = [w for w in words if w not in stop_words]\n",
    "\n",
    "word_count = Counter(words)\n",
    "\n",
    "print(\"Most common words and their counts:\")\n",
    "for w, c in word_count.most_common(20):\n",
    "    print(f\"{w}\\t{c}\")"
   ]
  },
  {
   "cell_type": "code",
   "execution_count": 46,
   "id": "6dd54a38",
   "metadata": {},
   "outputs": [
    {
     "name": "stdout",
     "output_type": "stream",
     "text": [
      "Most common words and their counts for negative sentiment:\n",
      "im\t102643\n",
      "get\t45317\n",
      "go\t45125\n",
      "dont\t44916\n",
      "work\t44001\n",
      "cant\t43591\n",
      "like\t40640\n",
      "day\t38085\n",
      "today\t36196\n",
      "going\t33442\n",
      "got\t32983\n",
      "back\t32519\n",
      "really\t31221\n",
      "miss\t30502\n",
      "want\t29731\n",
      "still\t28761\n",
      "good\t28551\n",
      "sad\t27130\n",
      "time\t26768\n",
      "one\t26362\n"
     ]
    }
   ],
   "source": [
    "negative_words = clean_text[df[\"target\"] == 0]\n",
    "\n",
    "# Join all tweets into a list of words\n",
    "negative_words = \" \".join(negative_words).split()\n",
    "\n",
    "# Remove stop words\n",
    "negative_words = [w for w in negative_words if w not in stop_words]\n",
    "\n",
    "word_count = Counter(negative_words)\n",
    "\n",
    "print(\"Most common words and their counts for negative sentiment:\")\n",
    "for w, c in word_count.most_common(20):\n",
    "    print(f\"{w}\\t{c}\")\n"
   ]
  },
  {
   "cell_type": "code",
   "execution_count": 47,
   "id": "ef5f3e78",
   "metadata": {},
   "outputs": [
    {
     "name": "stdout",
     "output_type": "stream",
     "text": [
      "Most common words and their counts for positive sentiment:\n",
      "im\t74875\n",
      "good\t60846\n",
      "love\t46832\n",
      "day\t44833\n",
      "like\t37109\n",
      "get\t36170\n",
      "thanks\t33742\n",
      "lol\t33492\n",
      "going\t30647\n",
      "u\t30173\n",
      "time\t29338\n",
      "today\t28413\n",
      "go\t27783\n",
      "got\t27771\n",
      "new\t26637\n",
      "one\t25829\n",
      "see\t25463\n",
      "know\t25276\n",
      "great\t24883\n",
      "well\t24540\n"
     ]
    }
   ],
   "source": [
    "positive_words = clean_text[df[\"target\"] == 4]\n",
    "\n",
    "# Join all tweets into a list of words\n",
    "positive_words = \" \".join(positive_words).split()\n",
    "\n",
    "# Remove stop words\n",
    "positive_words = [w for w in positive_words if w not in stop_words]\n",
    "\n",
    "word_count = Counter(positive_words)\n",
    "\n",
    "print(\"Most common words and their counts for positive sentiment:\")\n",
    "for w, c in word_count.most_common(20):\n",
    "    print(f\"{w}\\t{c}\")\n"
   ]
  },
  {
   "cell_type": "code",
   "execution_count": 40,
   "id": "1d93c94d",
   "metadata": {},
   "outputs": [
    {
     "data": {
      "image/png": "[encoded data removed]",
      "text/plain": [
       "<Figure size 640x480 with 1 Axes>"
      ]
     },
     "metadata": {},
     "output_type": "display_data"
    }
   ],
   "source": [
    "tweet_lens = clean_text.apply(len)\n",
    "\n",
    "plt.hist(tweet_lens.to_numpy(), bins=25, color=\"black\")\n",
    "plt.title(\"Histogram of tweet lengths\")\n",
    "plt.show()"
   ]
  },
  {
   "cell_type": "markdown",
   "id": "0dfc752a",
   "metadata": {},
   "source": [
    "## Stock Market Dataset"
   ]
  },
  {
   "cell_type": "code",
   "execution_count": 102,
   "id": "9376f08c",
   "metadata": {},
   "outputs": [
    {
     "name": "stderr",
     "output_type": "stream",
     "text": [
      "100%|██████████| 2165/2165 [00:17<00:00, 124.06it/s]\n",
      "100%|██████████| 5884/5884 [01:16<00:00, 77.41it/s]\n"
     ]
    }
   ],
   "source": [
    "path_etfs = \"../data/stock_market_dataset/etfs\"\n",
    "path_stocks = \"../data/stock_market_dataset/stocks\"\n",
    "\n",
    "dir_etfs = os.listdir(path_etfs)\n",
    "dir_stocks = os.listdir(path_stocks)\n",
    "\n",
    "min_date = datetime(2009, 4, 6)\n",
    "max_date = datetime(2009, 6, 25)\n",
    "\n",
    "etfs_list = []\n",
    "stocks_list = []\n",
    "\n",
    "for etf in tqdm(dir_etfs):\n",
    "    df_etf = pd.read_csv(os.path.join(path_etfs, etf), parse_dates=[\"Date\"])\n",
    "\n",
    "    if pd.to_datetime(df_etf[\"Date\"].max()) < min_date or pd.to_datetime(df_etf[\"Date\"].min()) > max_date:\n",
    "        continue\n",
    "\n",
    "    df_etf = df_etf[(df_etf[\"Date\"] >= min_date) & (df_etf[\"Date\"] <= max_date)].copy()\n",
    "\n",
    "    df_etf[\"Name\"] = etf.split(\".\")[0]\n",
    "\n",
    "    etfs_list.append(df_etf)\n",
    "\n",
    "df_etfs = pd.concat(etfs_list, ignore_index=True)\n",
    "\n",
    "for stock in tqdm(dir_stocks):\n",
    "    df_stock = pd.read_csv(os.path.join(path_stocks, stock), parse_dates=[\"Date\"])\n",
    "\n",
    "    if pd.to_datetime(df_stock[\"Date\"].max()) < min_date or pd.to_datetime(df_stock[\"Date\"].min()) > max_date:\n",
    "        continue\n",
    "\n",
    "    df_stock = df_stock[(df_stock[\"Date\"] >= min_date) & (df_stock[\"Date\"] <= max_date)].copy()\n",
    "\n",
    "    df_stock[\"Name\"] = stock.split(\".\")[0]\n",
    "\n",
    "    stocks_list.append(df_stock)\n",
    "\n",
    "df_etfs = pd.concat(etfs_list, ignore_index=True)\n",
    "df_stocks = pd.concat(stocks_list, ignore_index=True)"
   ]
  },
  {
   "cell_type": "code",
   "execution_count": 107,
   "id": "1416ed4c",
   "metadata": {},
   "outputs": [
    {
     "name": "stdout",
     "output_type": "stream",
     "text": [
      "Number of ETFs: 32604\n",
      "Number of stocks: 189650\n"
     ]
    }
   ],
   "source": [
    "print(f\"Number of ETFs: {len(df_etfs)}\")\n",
    "print(f\"Number of stocks: {len(df_stocks)}\")"
   ]
  },
  {
   "cell_type": "code",
   "execution_count": 105,
   "id": "bd74e431",
   "metadata": {},
   "outputs": [
    {
     "data": {
      "text/html": [
       "<div>\n",
       "<style scoped>\n",
       "    .dataframe tbody tr th:only-of-type {\n",
       "        vertical-align: middle;\n",
       "    }\n",
       "\n",
       "    .dataframe tbody tr th {\n",
       "        vertical-align: top;\n",
       "    }\n",
       "\n",
       "    .dataframe thead th {\n",
       "        text-align: right;\n",
       "    }\n",
       "</style>\n",
       "<table border=\"1\" class=\"dataframe\">\n",
       "  <thead>\n",
       "    <tr style=\"text-align: right;\">\n",
       "      <th></th>\n",
       "      <th>Date</th>\n",
       "      <th>Open</th>\n",
       "      <th>High</th>\n",
       "      <th>Low</th>\n",
       "      <th>Close</th>\n",
       "      <th>Adj Close</th>\n",
       "      <th>Volume</th>\n",
       "      <th>Name</th>\n",
       "    </tr>\n",
       "  </thead>\n",
       "  <tbody>\n",
       "    <tr>\n",
       "      <th>0</th>\n",
       "      <td>2009-06-25</td>\n",
       "      <td>6142.399902</td>\n",
       "      <td>6161.600098</td>\n",
       "      <td>5856.00</td>\n",
       "      <td>5863.200195</td>\n",
       "      <td>5662.890625</td>\n",
       "      <td>800.0</td>\n",
       "      <td>SPXU</td>\n",
       "    </tr>\n",
       "    <tr>\n",
       "      <th>1</th>\n",
       "      <td>2009-04-06</td>\n",
       "      <td>12.290000</td>\n",
       "      <td>12.650000</td>\n",
       "      <td>12.08</td>\n",
       "      <td>12.640000</td>\n",
       "      <td>10.992745</td>\n",
       "      <td>132500.0</td>\n",
       "      <td>PPA</td>\n",
       "    </tr>\n",
       "    <tr>\n",
       "      <th>2</th>\n",
       "      <td>2009-04-07</td>\n",
       "      <td>12.480000</td>\n",
       "      <td>12.560000</td>\n",
       "      <td>12.24</td>\n",
       "      <td>12.300000</td>\n",
       "      <td>10.697052</td>\n",
       "      <td>49200.0</td>\n",
       "      <td>PPA</td>\n",
       "    </tr>\n",
       "    <tr>\n",
       "      <th>3</th>\n",
       "      <td>2009-04-08</td>\n",
       "      <td>12.330000</td>\n",
       "      <td>12.360000</td>\n",
       "      <td>12.20</td>\n",
       "      <td>12.300000</td>\n",
       "      <td>10.697052</td>\n",
       "      <td>31000.0</td>\n",
       "      <td>PPA</td>\n",
       "    </tr>\n",
       "    <tr>\n",
       "      <th>4</th>\n",
       "      <td>2009-04-09</td>\n",
       "      <td>12.590000</td>\n",
       "      <td>12.830000</td>\n",
       "      <td>12.58</td>\n",
       "      <td>12.780000</td>\n",
       "      <td>11.114499</td>\n",
       "      <td>33100.0</td>\n",
       "      <td>PPA</td>\n",
       "    </tr>\n",
       "  </tbody>\n",
       "</table>\n",
       "</div>"
      ],
      "text/plain": [
       "        Date         Open         High      Low        Close    Adj Close  \\\n",
       "0 2009-06-25  6142.399902  6161.600098  5856.00  5863.200195  5662.890625   \n",
       "1 2009-04-06    12.290000    12.650000    12.08    12.640000    10.992745   \n",
       "2 2009-04-07    12.480000    12.560000    12.24    12.300000    10.697052   \n",
       "3 2009-04-08    12.330000    12.360000    12.20    12.300000    10.697052   \n",
       "4 2009-04-09    12.590000    12.830000    12.58    12.780000    11.114499   \n",
       "\n",
       "     Volume  Name  \n",
       "0     800.0  SPXU  \n",
       "1  132500.0   PPA  \n",
       "2   49200.0   PPA  \n",
       "3   31000.0   PPA  \n",
       "4   33100.0   PPA  "
      ]
     },
     "execution_count": 105,
     "metadata": {},
     "output_type": "execute_result"
    }
   ],
   "source": [
    "df_etfs.head()"
   ]
  },
  {
   "cell_type": "code",
   "execution_count": 104,
   "id": "7207400e",
   "metadata": {},
   "outputs": [
    {
     "data": {
      "text/html": [
       "<div>\n",
       "<style scoped>\n",
       "    .dataframe tbody tr th:only-of-type {\n",
       "        vertical-align: middle;\n",
       "    }\n",
       "\n",
       "    .dataframe tbody tr th {\n",
       "        vertical-align: top;\n",
       "    }\n",
       "\n",
       "    .dataframe thead th {\n",
       "        text-align: right;\n",
       "    }\n",
       "</style>\n",
       "<table border=\"1\" class=\"dataframe\">\n",
       "  <thead>\n",
       "    <tr style=\"text-align: right;\">\n",
       "      <th></th>\n",
       "      <th>Date</th>\n",
       "      <th>Open</th>\n",
       "      <th>High</th>\n",
       "      <th>Low</th>\n",
       "      <th>Close</th>\n",
       "      <th>Adj Close</th>\n",
       "      <th>Volume</th>\n",
       "      <th>Name</th>\n",
       "    </tr>\n",
       "  </thead>\n",
       "  <tbody>\n",
       "    <tr>\n",
       "      <th>0</th>\n",
       "      <td>2009-04-06</td>\n",
       "      <td>22.950001</td>\n",
       "      <td>23.400000</td>\n",
       "      <td>22.700001</td>\n",
       "      <td>23.150000</td>\n",
       "      <td>23.150000</td>\n",
       "      <td>4200.0</td>\n",
       "      <td>ANTE</td>\n",
       "    </tr>\n",
       "    <tr>\n",
       "      <th>1</th>\n",
       "      <td>2009-04-07</td>\n",
       "      <td>23.000000</td>\n",
       "      <td>23.000000</td>\n",
       "      <td>22.350000</td>\n",
       "      <td>22.549999</td>\n",
       "      <td>22.549999</td>\n",
       "      <td>4300.0</td>\n",
       "      <td>ANTE</td>\n",
       "    </tr>\n",
       "    <tr>\n",
       "      <th>2</th>\n",
       "      <td>2009-04-08</td>\n",
       "      <td>21.850000</td>\n",
       "      <td>22.850000</td>\n",
       "      <td>21.850000</td>\n",
       "      <td>22.799999</td>\n",
       "      <td>22.799999</td>\n",
       "      <td>9700.0</td>\n",
       "      <td>ANTE</td>\n",
       "    </tr>\n",
       "    <tr>\n",
       "      <th>3</th>\n",
       "      <td>2009-04-09</td>\n",
       "      <td>23.049999</td>\n",
       "      <td>25.000000</td>\n",
       "      <td>23.049999</td>\n",
       "      <td>24.750000</td>\n",
       "      <td>24.750000</td>\n",
       "      <td>13100.0</td>\n",
       "      <td>ANTE</td>\n",
       "    </tr>\n",
       "    <tr>\n",
       "      <th>4</th>\n",
       "      <td>2009-04-13</td>\n",
       "      <td>24.450001</td>\n",
       "      <td>26.950001</td>\n",
       "      <td>23.400000</td>\n",
       "      <td>26.850000</td>\n",
       "      <td>26.850000</td>\n",
       "      <td>13600.0</td>\n",
       "      <td>ANTE</td>\n",
       "    </tr>\n",
       "  </tbody>\n",
       "</table>\n",
       "</div>"
      ],
      "text/plain": [
       "        Date       Open       High        Low      Close  Adj Close   Volume  \\\n",
       "0 2009-04-06  22.950001  23.400000  22.700001  23.150000  23.150000   4200.0   \n",
       "1 2009-04-07  23.000000  23.000000  22.350000  22.549999  22.549999   4300.0   \n",
       "2 2009-04-08  21.850000  22.850000  21.850000  22.799999  22.799999   9700.0   \n",
       "3 2009-04-09  23.049999  25.000000  23.049999  24.750000  24.750000  13100.0   \n",
       "4 2009-04-13  24.450001  26.950001  23.400000  26.850000  26.850000  13600.0   \n",
       "\n",
       "   Name  \n",
       "0  ANTE  \n",
       "1  ANTE  \n",
       "2  ANTE  \n",
       "3  ANTE  \n",
       "4  ANTE  "
      ]
     },
     "execution_count": 104,
     "metadata": {},
     "output_type": "execute_result"
    }
   ],
   "source": [
    "df_stocks.head()"
   ]
  },
  {
   "cell_type": "code",
   "execution_count": 108,
   "id": "7af16685",
   "metadata": {},
   "outputs": [
    {
     "data": {
      "text/html": [
       "<div>\n",
       "<style scoped>\n",
       "    .dataframe tbody tr th:only-of-type {\n",
       "        vertical-align: middle;\n",
       "    }\n",
       "\n",
       "    .dataframe tbody tr th {\n",
       "        vertical-align: top;\n",
       "    }\n",
       "\n",
       "    .dataframe thead th {\n",
       "        text-align: right;\n",
       "    }\n",
       "</style>\n",
       "<table border=\"1\" class=\"dataframe\">\n",
       "  <thead>\n",
       "    <tr style=\"text-align: right;\">\n",
       "      <th></th>\n",
       "      <th>Date</th>\n",
       "      <th>Open</th>\n",
       "      <th>High</th>\n",
       "      <th>Low</th>\n",
       "      <th>Close</th>\n",
       "      <th>Adj Close</th>\n",
       "      <th>Volume</th>\n",
       "    </tr>\n",
       "  </thead>\n",
       "  <tbody>\n",
       "    <tr>\n",
       "      <th>count</th>\n",
       "      <td>189650</td>\n",
       "      <td>1.896480e+05</td>\n",
       "      <td>1.896480e+05</td>\n",
       "      <td>1.896480e+05</td>\n",
       "      <td>1.896480e+05</td>\n",
       "      <td>1.896480e+05</td>\n",
       "      <td>1.896480e+05</td>\n",
       "    </tr>\n",
       "    <tr>\n",
       "      <th>mean</th>\n",
       "      <td>2009-05-16 07:18:34.984445184</td>\n",
       "      <td>1.433003e+06</td>\n",
       "      <td>1.506806e+06</td>\n",
       "      <td>1.342961e+06</td>\n",
       "      <td>1.414303e+06</td>\n",
       "      <td>1.414299e+06</td>\n",
       "      <td>2.105223e+06</td>\n",
       "    </tr>\n",
       "    <tr>\n",
       "      <th>min</th>\n",
       "      <td>2009-04-06 00:00:00</td>\n",
       "      <td>2.000000e-04</td>\n",
       "      <td>2.000000e-04</td>\n",
       "      <td>2.000000e-04</td>\n",
       "      <td>2.000000e-04</td>\n",
       "      <td>-3.008796e-01</td>\n",
       "      <td>0.000000e+00</td>\n",
       "    </tr>\n",
       "    <tr>\n",
       "      <th>25%</th>\n",
       "      <td>2009-04-27 00:00:00</td>\n",
       "      <td>6.010000e+00</td>\n",
       "      <td>6.200000e+00</td>\n",
       "      <td>5.860000e+00</td>\n",
       "      <td>6.030000e+00</td>\n",
       "      <td>4.255662e+00</td>\n",
       "      <td>1.310000e+04</td>\n",
       "    </tr>\n",
       "    <tr>\n",
       "      <th>50%</th>\n",
       "      <td>2009-05-15 00:00:00</td>\n",
       "      <td>1.205000e+01</td>\n",
       "      <td>1.230000e+01</td>\n",
       "      <td>1.183000e+01</td>\n",
       "      <td>1.207000e+01</td>\n",
       "      <td>8.760249e+00</td>\n",
       "      <td>1.341000e+05</td>\n",
       "    </tr>\n",
       "    <tr>\n",
       "      <th>75%</th>\n",
       "      <td>2009-06-05 00:00:00</td>\n",
       "      <td>2.264000e+01</td>\n",
       "      <td>2.315375e+01</td>\n",
       "      <td>2.215000e+01</td>\n",
       "      <td>2.268000e+01</td>\n",
       "      <td>1.794000e+01</td>\n",
       "      <td>8.748250e+05</td>\n",
       "    </tr>\n",
       "    <tr>\n",
       "      <th>max</th>\n",
       "      <td>2009-06-25 00:00:00</td>\n",
       "      <td>8.946000e+09</td>\n",
       "      <td>9.777601e+09</td>\n",
       "      <td>7.686000e+09</td>\n",
       "      <td>8.870400e+09</td>\n",
       "      <td>8.870400e+09</td>\n",
       "      <td>1.626529e+09</td>\n",
       "    </tr>\n",
       "    <tr>\n",
       "      <th>std</th>\n",
       "      <td>NaN</td>\n",
       "      <td>8.610079e+07</td>\n",
       "      <td>9.101021e+07</td>\n",
       "      <td>7.971986e+07</td>\n",
       "      <td>8.464463e+07</td>\n",
       "      <td>8.464463e+07</td>\n",
       "      <td>1.660310e+07</td>\n",
       "    </tr>\n",
       "  </tbody>\n",
       "</table>\n",
       "</div>"
      ],
      "text/plain": [
       "                                Date          Open          High  \\\n",
       "count                         189650  1.896480e+05  1.896480e+05   \n",
       "mean   2009-05-16 07:18:34.984445184  1.433003e+06  1.506806e+06   \n",
       "min              2009-04-06 00:00:00  2.000000e-04  2.000000e-04   \n",
       "25%              2009-04-27 00:00:00  6.010000e+00  6.200000e+00   \n",
       "50%              2009-05-15 00:00:00  1.205000e+01  1.230000e+01   \n",
       "75%              2009-06-05 00:00:00  2.264000e+01  2.315375e+01   \n",
       "max              2009-06-25 00:00:00  8.946000e+09  9.777601e+09   \n",
       "std                              NaN  8.610079e+07  9.101021e+07   \n",
       "\n",
       "                Low         Close     Adj Close        Volume  \n",
       "count  1.896480e+05  1.896480e+05  1.896480e+05  1.896480e+05  \n",
       "mean   1.342961e+06  1.414303e+06  1.414299e+06  2.105223e+06  \n",
       "min    2.000000e-04  2.000000e-04 -3.008796e-01  0.000000e+00  \n",
       "25%    5.860000e+00  6.030000e+00  4.255662e+00  1.310000e+04  \n",
       "50%    1.183000e+01  1.207000e+01  8.760249e+00  1.341000e+05  \n",
       "75%    2.215000e+01  2.268000e+01  1.794000e+01  8.748250e+05  \n",
       "max    7.686000e+09  8.870400e+09  8.870400e+09  1.626529e+09  \n",
       "std    7.971986e+07  8.464463e+07  8.464463e+07  1.660310e+07  "
      ]
     },
     "execution_count": 108,
     "metadata": {},
     "output_type": "execute_result"
    }
   ],
   "source": [
    "df_stocks.describe()"
   ]
  },
  {
   "cell_type": "code",
   "execution_count": 109,
   "id": "2075c238",
   "metadata": {},
   "outputs": [
    {
     "data": {
      "text/html": [
       "<div>\n",
       "<style scoped>\n",
       "    .dataframe tbody tr th:only-of-type {\n",
       "        vertical-align: middle;\n",
       "    }\n",
       "\n",
       "    .dataframe tbody tr th {\n",
       "        vertical-align: top;\n",
       "    }\n",
       "\n",
       "    .dataframe thead th {\n",
       "        text-align: right;\n",
       "    }\n",
       "</style>\n",
       "<table border=\"1\" class=\"dataframe\">\n",
       "  <thead>\n",
       "    <tr style=\"text-align: right;\">\n",
       "      <th></th>\n",
       "      <th>Date</th>\n",
       "      <th>Open</th>\n",
       "      <th>High</th>\n",
       "      <th>Low</th>\n",
       "      <th>Close</th>\n",
       "      <th>Adj Close</th>\n",
       "      <th>Volume</th>\n",
       "    </tr>\n",
       "  </thead>\n",
       "  <tbody>\n",
       "    <tr>\n",
       "      <th>count</th>\n",
       "      <td>32604</td>\n",
       "      <td>32604.000000</td>\n",
       "      <td>32604.000000</td>\n",
       "      <td>32604.000000</td>\n",
       "      <td>32604.000000</td>\n",
       "      <td>32604.000000</td>\n",
       "      <td>3.260400e+04</td>\n",
       "    </tr>\n",
       "    <tr>\n",
       "      <th>mean</th>\n",
       "      <td>2009-05-16 10:11:34.295178240</td>\n",
       "      <td>237.273473</td>\n",
       "      <td>244.949060</td>\n",
       "      <td>226.825533</td>\n",
       "      <td>234.539965</td>\n",
       "      <td>224.219033</td>\n",
       "      <td>4.142993e+06</td>\n",
       "    </tr>\n",
       "    <tr>\n",
       "      <th>min</th>\n",
       "      <td>2009-04-06 00:00:00</td>\n",
       "      <td>0.073000</td>\n",
       "      <td>0.073000</td>\n",
       "      <td>0.072000</td>\n",
       "      <td>0.072000</td>\n",
       "      <td>0.138265</td>\n",
       "      <td>0.000000e+00</td>\n",
       "    </tr>\n",
       "    <tr>\n",
       "      <th>25%</th>\n",
       "      <td>2009-04-27 00:00:00</td>\n",
       "      <td>16.950001</td>\n",
       "      <td>17.112500</td>\n",
       "      <td>16.760000</td>\n",
       "      <td>16.940001</td>\n",
       "      <td>13.741512</td>\n",
       "      <td>1.260000e+04</td>\n",
       "    </tr>\n",
       "    <tr>\n",
       "      <th>50%</th>\n",
       "      <td>2009-05-15 00:00:00</td>\n",
       "      <td>29.658333</td>\n",
       "      <td>30.059999</td>\n",
       "      <td>29.250000</td>\n",
       "      <td>29.700001</td>\n",
       "      <td>22.827331</td>\n",
       "      <td>6.881850e+04</td>\n",
       "    </tr>\n",
       "    <tr>\n",
       "      <th>75%</th>\n",
       "      <td>2009-06-05 00:00:00</td>\n",
       "      <td>46.570000</td>\n",
       "      <td>47.020000</td>\n",
       "      <td>45.939999</td>\n",
       "      <td>46.549999</td>\n",
       "      <td>37.680633</td>\n",
       "      <td>4.086000e+05</td>\n",
       "    </tr>\n",
       "    <tr>\n",
       "      <th>max</th>\n",
       "      <td>2009-06-25 00:00:00</td>\n",
       "      <td>70920.000000</td>\n",
       "      <td>75040.000000</td>\n",
       "      <td>68000.000000</td>\n",
       "      <td>72200.000000</td>\n",
       "      <td>70954.718750</td>\n",
       "      <td>7.152996e+08</td>\n",
       "    </tr>\n",
       "    <tr>\n",
       "      <th>std</th>\n",
       "      <td>NaN</td>\n",
       "      <td>2093.782457</td>\n",
       "      <td>2177.601820</td>\n",
       "      <td>1960.349547</td>\n",
       "      <td>2050.428464</td>\n",
       "      <td>2011.761584</td>\n",
       "      <td>2.565044e+07</td>\n",
       "    </tr>\n",
       "  </tbody>\n",
       "</table>\n",
       "</div>"
      ],
      "text/plain": [
       "                                Date          Open          High  \\\n",
       "count                          32604  32604.000000  32604.000000   \n",
       "mean   2009-05-16 10:11:34.295178240    237.273473    244.949060   \n",
       "min              2009-04-06 00:00:00      0.073000      0.073000   \n",
       "25%              2009-04-27 00:00:00     16.950001     17.112500   \n",
       "50%              2009-05-15 00:00:00     29.658333     30.059999   \n",
       "75%              2009-06-05 00:00:00     46.570000     47.020000   \n",
       "max              2009-06-25 00:00:00  70920.000000  75040.000000   \n",
       "std                              NaN   2093.782457   2177.601820   \n",
       "\n",
       "                Low         Close     Adj Close        Volume  \n",
       "count  32604.000000  32604.000000  32604.000000  3.260400e+04  \n",
       "mean     226.825533    234.539965    224.219033  4.142993e+06  \n",
       "min        0.072000      0.072000      0.138265  0.000000e+00  \n",
       "25%       16.760000     16.940001     13.741512  1.260000e+04  \n",
       "50%       29.250000     29.700001     22.827331  6.881850e+04  \n",
       "75%       45.939999     46.549999     37.680633  4.086000e+05  \n",
       "max    68000.000000  72200.000000  70954.718750  7.152996e+08  \n",
       "std     1960.349547   2050.428464   2011.761584  2.565044e+07  "
      ]
     },
     "execution_count": 109,
     "metadata": {},
     "output_type": "execute_result"
    }
   ],
   "source": [
    "df_etfs.describe()"
   ]
  },
  {
   "cell_type": "code",
   "execution_count": 123,
   "id": "affac9fa",
   "metadata": {},
   "outputs": [],
   "source": [
    "df_etfs = df_etfs[df_etfs.groupby(\"Name\")[\"Name\"].transform(\"count\") >= 10]\n",
    "df_stocks = df_stocks[df_stocks.groupby(\"Name\")[\"Name\"].transform(\"count\") >= 10]"
   ]
  }
 ],
 "metadata": {
  "kernelspec": {
   "display_name": ".venv",
   "language": "python",
   "name": "python3"
  },
  "language_info": {
   "codemirror_mode": {
    "name": "ipython",
    "version": 3
   },
   "file_extension": ".py",
   "mimetype": "text/x-python",
   "name": "python",
   "nbconvert_exporter": "python",
   "pygments_lexer": "ipython3",
   "version": "3.12.2"
  }
 },
 "nbformat": 4,
 "nbformat_minor": 5
}
