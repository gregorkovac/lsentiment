{
 "cells": [
  {
   "cell_type": "code",
   "execution_count": 11,
   "id": "eb63b0df",
   "metadata": {},
   "outputs": [],
   "source": [
    "import pandas as pd\n",
    "import torch\n",
    "import os\n",
    "import pickle\n",
    "import sys\n",
    "data_path = \"../data/split\""
   ]
  },
  {
   "cell_type": "code",
   "execution_count": 13,
   "id": "ba941a58",
   "metadata": {},
   "outputs": [
    {
     "name": "stdout",
     "output_type": "stream",
     "text": [
      "['../data/maang_stocks/google.csv', '../data/maang_stocks/amazon.csv', '../data/maang_stocks/apple.csv', '../data/maang_stocks/netflix.csv', '../data/maang_stocks/meta.csv']\n"
     ]
    }
   ],
   "source": [
    "stock_paths = []\n",
    "stocks_path = \"../data/maang_stocks\"\n",
    "for s in os.listdir(stocks_path):\n",
    "    if \".csv\" in s:\n",
    "        stock_paths.append(os.path.join(stocks_path, s))\n",
    "\n",
    "print(stock_paths)"
   ]
  },
  {
   "cell_type": "code",
   "execution_count": 28,
   "id": "5c92c84c",
   "metadata": {},
   "outputs": [
    {
     "name": "stdout",
     "output_type": "stream",
     "text": [
      "google: 0.3742881585627304\n",
      "amazon: 0.40210249690214367\n",
      "apple: 0.35568743543383047\n",
      "netflix: 0.43231926255247566\n",
      "meta: 0.4305537841134894\n"
     ]
    }
   ],
   "source": [
    "df_s = pd.read_csv(\"../data/financial_tweets_sentiments.csv\")\n",
    "df_s = df_s[[\"timestamp\", \"sentiment\"]]\n",
    "df_s[\"timestamp\"] = pd.to_datetime(df_s[\"timestamp\"]).dt.date\n",
    "df_s.columns = [\"date\", \"sentiment\"]\n",
    "\n",
    "for stock_path in stock_paths:\n",
    "    stock_name = stock_path.split(\"/\")[-1].split(\".csv\")[0]\n",
    "    \n",
    "    df = pd.read_csv(stock_path)\n",
    "    if \"date\" in df.columns:\n",
    "        df = df[[\"date\", \"close\"]]\n",
    "    else:\n",
    "        df = df[[\"Date\", \"Close\"]]\n",
    "\n",
    "    df.columns = [\"date\", \"close\"]\n",
    "    df[\"date\"] = pd.to_datetime(df[\"date\"], utc=True, errors=\"coerce\").dt.date\n",
    "    df = pd.merge(df_s, df, on=\"date\", how=\"inner\")\n",
    "    \n",
    "    correlation = df[\"sentiment\"].corr(df[\"close\"])\n",
    "\n",
    "    print(f\"{stock_name}: {correlation}\")"
   ]
  }
 ],
 "metadata": {
  "kernelspec": {
   "display_name": ".venv",
   "language": "python",
   "name": "python3"
  },
  "language_info": {
   "codemirror_mode": {
    "name": "ipython",
    "version": 3
   },
   "file_extension": ".py",
   "mimetype": "text/x-python",
   "name": "python",
   "nbconvert_exporter": "python",
   "pygments_lexer": "ipython3",
   "version": "3.12.2"
  }
 },
 "nbformat": 4,
 "nbformat_minor": 5
}
