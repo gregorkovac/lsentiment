{
 "cells": [
  {
   "cell_type": "markdown",
   "id": "08b0a84b",
   "metadata": {},
   "source": [
    "# LSTM with base stock market data"
   ]
  },
  {
   "cell_type": "code",
   "execution_count": 1,
   "id": "33863c81",
   "metadata": {},
   "outputs": [],
   "source": [
    "import pandas as pd\n",
    "import matplotlib.pyplot as plt\n",
    "import importlib\n",
    "import torch\n",
    "from torch import nn\n",
    "from torch.utils.data import Dataset, DataLoader\n",
    "from tqdm import tqdm\n",
    "import os\n",
    "import sys\n",
    "import numpy as np\n",
    "sys.path.append(os.path.abspath(os.path.join(os.getcwd(), \"..\")))\n",
    "\n",
    "import src.preprocess_data as preprocess_data\n",
    "\n",
    "importlib.reload(preprocess_data)\n",
    "\n",
    "# Set seeds for reproducibility\n",
    "np.random.seed(0)\n",
    "torch.manual_seed(0)\n",
    "\n",
    "# Set PyTorch device\n",
    "device = torch.device(\"cuda\" if torch.cuda.is_available() else \"cpu\")"
   ]
  },
  {
   "cell_type": "code",
   "execution_count": 2,
   "id": "8cba2d0e",
   "metadata": {},
   "outputs": [],
   "source": [
    "DATA_PATH = \"../data/processed/stocks.csv\"\n",
    "\n",
    "FOCUS_PRICE = \"Close\"\n",
    "FOCUS_STOCK = \"AAPL\"\n",
    "\n",
    "WINDOW_SIZE = 3\n",
    "BATCH_SIZE = 16\n",
    "LEARNING_RATE = 0.001\n",
    "EPOCHS = 5000\n",
    "\n",
    "LSTM_HIDDEN_SIZE = 2\n",
    "LSTM_NUM_LAYERS = 1"
   ]
  },
  {
   "cell_type": "markdown",
   "id": "4d524101",
   "metadata": {},
   "source": [
    "## Data Preparation"
   ]
  },
  {
   "cell_type": "markdown",
   "id": "844136a1",
   "metadata": {},
   "source": [
    "### Processing"
   ]
  },
  {
   "cell_type": "code",
   "execution_count": 3,
   "id": "6745d5a9",
   "metadata": {},
   "outputs": [
    {
     "data": {
      "text/html": [
       "<div>\n",
       "<style scoped>\n",
       "    .dataframe tbody tr th:only-of-type {\n",
       "        vertical-align: middle;\n",
       "    }\n",
       "\n",
       "    .dataframe tbody tr th {\n",
       "        vertical-align: top;\n",
       "    }\n",
       "\n",
       "    .dataframe thead th {\n",
       "        text-align: right;\n",
       "    }\n",
       "</style>\n",
       "<table border=\"1\" class=\"dataframe\">\n",
       "  <thead>\n",
       "    <tr style=\"text-align: right;\">\n",
       "      <th></th>\n",
       "      <th>Close</th>\n",
       "      <th>Close-3</th>\n",
       "      <th>Close-2</th>\n",
       "      <th>Close-1</th>\n",
       "    </tr>\n",
       "    <tr>\n",
       "      <th>Date</th>\n",
       "      <th></th>\n",
       "      <th></th>\n",
       "      <th></th>\n",
       "      <th></th>\n",
       "    </tr>\n",
       "  </thead>\n",
       "  <tbody>\n",
       "    <tr>\n",
       "      <th>2009-04-09</th>\n",
       "      <td>17.081429</td>\n",
       "      <td>16.921429</td>\n",
       "      <td>16.428572</td>\n",
       "      <td>16.617144</td>\n",
       "    </tr>\n",
       "    <tr>\n",
       "      <th>2009-04-13</th>\n",
       "      <td>17.174286</td>\n",
       "      <td>16.428572</td>\n",
       "      <td>16.617144</td>\n",
       "      <td>17.081429</td>\n",
       "    </tr>\n",
       "    <tr>\n",
       "      <th>2009-04-14</th>\n",
       "      <td>16.901428</td>\n",
       "      <td>16.617144</td>\n",
       "      <td>17.081429</td>\n",
       "      <td>17.174286</td>\n",
       "    </tr>\n",
       "    <tr>\n",
       "      <th>2009-04-15</th>\n",
       "      <td>16.805714</td>\n",
       "      <td>17.081429</td>\n",
       "      <td>17.174286</td>\n",
       "      <td>16.901428</td>\n",
       "    </tr>\n",
       "    <tr>\n",
       "      <th>2009-04-16</th>\n",
       "      <td>17.350000</td>\n",
       "      <td>17.174286</td>\n",
       "      <td>16.901428</td>\n",
       "      <td>16.805714</td>\n",
       "    </tr>\n",
       "    <tr>\n",
       "      <th>2009-04-17</th>\n",
       "      <td>17.631428</td>\n",
       "      <td>16.901428</td>\n",
       "      <td>16.805714</td>\n",
       "      <td>17.350000</td>\n",
       "    </tr>\n",
       "    <tr>\n",
       "      <th>2009-04-20</th>\n",
       "      <td>17.214285</td>\n",
       "      <td>16.805714</td>\n",
       "      <td>17.350000</td>\n",
       "      <td>17.631428</td>\n",
       "    </tr>\n",
       "    <tr>\n",
       "      <th>2009-04-21</th>\n",
       "      <td>17.394285</td>\n",
       "      <td>17.350000</td>\n",
       "      <td>17.631428</td>\n",
       "      <td>17.214285</td>\n",
       "    </tr>\n",
       "    <tr>\n",
       "      <th>2009-04-22</th>\n",
       "      <td>17.358572</td>\n",
       "      <td>17.631428</td>\n",
       "      <td>17.214285</td>\n",
       "      <td>17.394285</td>\n",
       "    </tr>\n",
       "    <tr>\n",
       "      <th>2009-04-23</th>\n",
       "      <td>17.914286</td>\n",
       "      <td>17.214285</td>\n",
       "      <td>17.394285</td>\n",
       "      <td>17.358572</td>\n",
       "    </tr>\n",
       "  </tbody>\n",
       "</table>\n",
       "</div>"
      ],
      "text/plain": [
       "                Close    Close-3    Close-2    Close-1\n",
       "Date                                                  \n",
       "2009-04-09  17.081429  16.921429  16.428572  16.617144\n",
       "2009-04-13  17.174286  16.428572  16.617144  17.081429\n",
       "2009-04-14  16.901428  16.617144  17.081429  17.174286\n",
       "2009-04-15  16.805714  17.081429  17.174286  16.901428\n",
       "2009-04-16  17.350000  17.174286  16.901428  16.805714\n",
       "2009-04-17  17.631428  16.901428  16.805714  17.350000\n",
       "2009-04-20  17.214285  16.805714  17.350000  17.631428\n",
       "2009-04-21  17.394285  17.350000  17.631428  17.214285\n",
       "2009-04-22  17.358572  17.631428  17.214285  17.394285\n",
       "2009-04-23  17.914286  17.214285  17.394285  17.358572"
      ]
     },
     "execution_count": 3,
     "metadata": {},
     "output_type": "execute_result"
    }
   ],
   "source": [
    "df_stocks = pd.read_csv(DATA_PATH)\n",
    "\n",
    "# TODO: Expand this or use tweets from a larger period of time\n",
    "df_stocks = df_stocks[df_stocks[\"Name\"] == FOCUS_STOCK]\n",
    "\n",
    "df_stocks = df_stocks[[\"Date\", FOCUS_PRICE]]\n",
    "df_stocks[\"Date\"] = df_stocks[\"Date\"].apply(preprocess_data.convert_date)\n",
    "\n",
    "df_stocks.set_index(\"Date\", inplace=True)\n",
    "\n",
    "df_stocks = preprocess_data.apply_time_window(df = df_stocks,\n",
    "                                              price_col_name=FOCUS_PRICE,\n",
    "                                              n = WINDOW_SIZE)\n",
    "\n",
    "df_stocks.head(10)"
   ]
  },
  {
   "cell_type": "markdown",
   "id": "c40bf5a2",
   "metadata": {},
   "source": [
    "### Conversion to PyTorch, data splitting"
   ]
  },
  {
   "cell_type": "code",
   "execution_count": 4,
   "id": "18483a18",
   "metadata": {},
   "outputs": [
    {
     "name": "stdout",
     "output_type": "stream",
     "text": [
      "(54, 3, 1) (54, 1)\n"
     ]
    }
   ],
   "source": [
    "Xy = df_stocks.to_numpy()\n",
    "X = Xy[:, 1:]\n",
    "X = np.expand_dims(X, axis=-1)\n",
    "\n",
    "y = Xy[:, :1]\n",
    "\n",
    "print(X.shape, y.shape)"
   ]
  },
  {
   "cell_type": "code",
   "execution_count": 5,
   "id": "65eb75eb",
   "metadata": {},
   "outputs": [
    {
     "name": "stdout",
     "output_type": "stream",
     "text": [
      "torch.Size([43, 3, 1]) torch.Size([43, 1])\n",
      "torch.Size([11, 3, 1]) torch.Size([11, 1])\n"
     ]
    }
   ],
   "source": [
    "split = int(len(X) * 0.8)\n",
    "\n",
    "X_train, y_train = X[:split], y[:split]\n",
    "X_test, y_test = X[split:], y[split:]\n",
    "\n",
    "X_train = torch.tensor(X_train, dtype=torch.float32)\n",
    "y_train = torch.tensor(y_train, dtype=torch.float32)\n",
    "X_test = torch.tensor(X_test, dtype=torch.float32)\n",
    "y_test = torch.tensor(y_test, dtype=torch.float32)\n",
    "\n",
    "print(X_train.shape, y_train.shape)\n",
    "print(X_test.shape, y_test.shape)"
   ]
  },
  {
   "cell_type": "markdown",
   "id": "f287eeda",
   "metadata": {},
   "source": [
    "### Dataset and DataLoaders"
   ]
  },
  {
   "cell_type": "code",
   "execution_count": 6,
   "id": "bb09fb97",
   "metadata": {},
   "outputs": [],
   "source": [
    "class StockDataset(Dataset):\n",
    "    def __init__(self, X, y):\n",
    "        self.X = X\n",
    "        self.y = y\n",
    "        self.len = len(X)\n",
    "\n",
    "    def __len__(self):\n",
    "        return self.len\n",
    "    \n",
    "    def __getitem__(self, i):\n",
    "        return self.X[i], self.y[i]"
   ]
  },
  {
   "cell_type": "code",
   "execution_count": 7,
   "id": "b3cd228a",
   "metadata": {},
   "outputs": [],
   "source": [
    "train_dataset = StockDataset(X_train, y_train)\n",
    "test_dataset = StockDataset(X_test, y_test)\n",
    "\n",
    "train_dataloader = DataLoader(train_dataset, batch_size=BATCH_SIZE, shuffle=True)\n",
    "test_dataloader = DataLoader(test_dataset, batch_size=BATCH_SIZE, shuffle=False)"
   ]
  },
  {
   "cell_type": "markdown",
   "id": "d2598d89",
   "metadata": {},
   "source": [
    "## Modelling"
   ]
  },
  {
   "cell_type": "markdown",
   "id": "555e17e9",
   "metadata": {},
   "source": [
    "### Model"
   ]
  },
  {
   "cell_type": "code",
   "execution_count": 8,
   "id": "f7e64db1",
   "metadata": {},
   "outputs": [],
   "source": [
    "class LSTM(nn.Module):\n",
    "    def __init__(self, input_size, hidden_size, num_layers):\n",
    "        super().__init__()\n",
    "\n",
    "        self.input_size = input_size\n",
    "        self.hidden_size = hidden_size\n",
    "        self.num_layers = num_layers\n",
    "\n",
    "        self.lstm = nn.LSTM(input_size=input_size,\n",
    "                            hidden_size=hidden_size,\n",
    "                            num_layers=num_layers,\n",
    "                            batch_first=True)\n",
    "        \n",
    "        self.fc = nn.Linear(hidden_size, 1)\n",
    "\n",
    "    def forward(self, x):\n",
    "        batch_size = x.size(0)\n",
    "\n",
    "        h_0 = torch.zeros(self.num_layers, batch_size, self.hidden_size).to(device)\n",
    "        c_0 = torch.zeros(self.num_layers, batch_size, self.hidden_size).to(device)\n",
    "\n",
    "        x, _ = self.lstm(x, (h_0, c_0))\n",
    "        x = self.fc(x[:, -1, :])\n",
    "        \n",
    "        return x"
   ]
  },
  {
   "cell_type": "markdown",
   "id": "cf47282e",
   "metadata": {},
   "source": [
    "### Training"
   ]
  },
  {
   "cell_type": "code",
   "execution_count": 9,
   "id": "62ad0e38",
   "metadata": {},
   "outputs": [
    {
     "name": "stdout",
     "output_type": "stream",
     "text": [
      "[ Epoch 0 / 5000 ] Train loss = 342.98388671875 Val loss = 389.6722717285156\n",
      "[ Epoch 100 / 5000 ] Train loss = 299.5494079589844 Val loss = 341.05963134765625\n",
      "[ Epoch 200 / 5000 ] Train loss = 262.9285583496094 Val loss = 300.3456726074219\n",
      "[ Epoch 300 / 5000 ] Train loss = 232.618896484375 Val loss = 269.3547058105469\n",
      "[ Epoch 400 / 5000 ] Train loss = 206.0779571533203 Val loss = 241.627685546875\n",
      "[ Epoch 500 / 5000 ] Train loss = 183.793212890625 Val loss = 216.3517608642578\n",
      "[ Epoch 600 / 5000 ] Train loss = 162.09088134765625 Val loss = 193.1650390625\n",
      "[ Epoch 700 / 5000 ] Train loss = 141.80633544921875 Val loss = 171.83009338378906\n",
      "[ Epoch 800 / 5000 ] Train loss = 125.19979095458984 Val loss = 152.1999053955078\n",
      "[ Epoch 900 / 5000 ] Train loss = 108.81571197509766 Val loss = 134.15667724609375\n",
      "[ Epoch 1000 / 5000 ] Train loss = 94.5049819946289 Val loss = 117.60900115966797\n",
      "[ Epoch 1100 / 5000 ] Train loss = 80.62177276611328 Val loss = 102.46875\n",
      "[ Epoch 1200 / 5000 ] Train loss = 67.34651947021484 Val loss = 88.67324829101562\n",
      "[ Epoch 1300 / 5000 ] Train loss = 57.87254333496094 Val loss = 76.16796875\n",
      "[ Epoch 1400 / 5000 ] Train loss = 48.72074890136719 Val loss = 64.89257049560547\n",
      "[ Epoch 1500 / 5000 ] Train loss = 39.462928771972656 Val loss = 54.78367614746094\n",
      "[ Epoch 1600 / 5000 ] Train loss = 32.590030670166016 Val loss = 45.7974967956543\n",
      "[ Epoch 1700 / 5000 ] Train loss = 25.490371704101562 Val loss = 37.87187957763672\n",
      "[ Epoch 1800 / 5000 ] Train loss = 20.431238174438477 Val loss = 30.966564178466797\n",
      "[ Epoch 1900 / 5000 ] Train loss = 15.158339500427246 Val loss = 25.005598068237305\n",
      "[ Epoch 2000 / 5000 ] Train loss = 11.918098449707031 Val loss = 19.932117462158203\n",
      "[ Epoch 2100 / 5000 ] Train loss = 8.869686126708984 Val loss = 15.680248260498047\n",
      "[ Epoch 2200 / 5000 ] Train loss = 6.444278717041016 Val loss = 12.182760238647461\n",
      "[ Epoch 2300 / 5000 ] Train loss = 4.598409175872803 Val loss = 9.361560821533203\n",
      "[ Epoch 2400 / 5000 ] Train loss = 3.3595094680786133 Val loss = 7.139851093292236\n",
      "[ Epoch 2500 / 5000 ] Train loss = 2.609720468521118 Val loss = 5.438398838043213\n",
      "[ Epoch 2600 / 5000 ] Train loss = 1.8792654275894165 Val loss = 4.160246849060059\n",
      "[ Epoch 2700 / 5000 ] Train loss = 1.4466444253921509 Val loss = 3.2367422580718994\n",
      "[ Epoch 2800 / 5000 ] Train loss = 1.3230127096176147 Val loss = 2.5932648181915283\n",
      "[ Epoch 2900 / 5000 ] Train loss = 1.2288471460342407 Val loss = 2.1556355953216553\n",
      "[ Epoch 3000 / 5000 ] Train loss = 1.2060543298721313 Val loss = 1.8783458471298218\n",
      "[ Epoch 3100 / 5000 ] Train loss = 1.2089751958847046 Val loss = 1.7066410779953003\n",
      "[ Epoch 3200 / 5000 ] Train loss = 1.2662734985351562 Val loss = 1.610458493232727\n",
      "[ Epoch 3300 / 5000 ] Train loss = 1.1944009065628052 Val loss = 1.7160776853561401\n",
      "[ Epoch 3400 / 5000 ] Train loss = 1.170358419418335 Val loss = 1.7173839807510376\n",
      "[ Epoch 3500 / 5000 ] Train loss = 1.128800392150879 Val loss = 1.5613257884979248\n",
      "[ Epoch 3600 / 5000 ] Train loss = 0.9686233401298523 Val loss = 1.4479392766952515\n",
      "[ Epoch 3700 / 5000 ] Train loss = 0.852999746799469 Val loss = 1.231895089149475\n",
      "[ Epoch 3800 / 5000 ] Train loss = 0.7384360432624817 Val loss = 0.968183159828186\n",
      "[ Epoch 3900 / 5000 ] Train loss = 0.5608454346656799 Val loss = 0.7105043530464172\n",
      "[ Epoch 4000 / 5000 ] Train loss = 0.4279429018497467 Val loss = 0.43264150619506836\n",
      "[ Epoch 4100 / 5000 ] Train loss = 0.3578261435031891 Val loss = 0.29442596435546875\n",
      "[ Epoch 4200 / 5000 ] Train loss = 0.3159513771533966 Val loss = 0.1841476410627365\n",
      "[ Epoch 4300 / 5000 ] Train loss = 0.2880643606185913 Val loss = 0.10394119471311569\n",
      "[ Epoch 4400 / 5000 ] Train loss = 0.258636474609375 Val loss = 0.1033569797873497\n",
      "[ Epoch 4500 / 5000 ] Train loss = 0.2524876594543457 Val loss = 0.08091108500957489\n",
      "[ Epoch 4600 / 5000 ] Train loss = 0.2369205206632614 Val loss = 0.08177007734775543\n",
      "[ Epoch 4700 / 5000 ] Train loss = 0.2337215542793274 Val loss = 0.08268342912197113\n",
      "[ Epoch 4800 / 5000 ] Train loss = 0.2064979523420334 Val loss = 0.0835663229227066\n",
      "[ Epoch 4900 / 5000 ] Train loss = 0.21099956333637238 Val loss = 0.08331743627786636\n"
     ]
    }
   ],
   "source": [
    "model = LSTM(input_size=1,\n",
    "             hidden_size=LSTM_HIDDEN_SIZE,\n",
    "             num_layers=LSTM_NUM_LAYERS).to(device)\n",
    "\n",
    "loss = nn.MSELoss()\n",
    "optimizer = torch.optim.Adam(model.parameters(),\n",
    "                             lr=LEARNING_RATE)\n",
    "\n",
    "for epoch in range(EPOCHS):\n",
    "    model.train(True)\n",
    "\n",
    "    train_loss = 0\n",
    "    cnt = 0\n",
    "    for i, batch in enumerate(train_dataloader):\n",
    "        X, y = batch[0].to(device), batch[1].to(device)\n",
    "\n",
    "        out = model(X)\n",
    "        l = loss(out, y)\n",
    "        train_loss += l\n",
    "\n",
    "        optimizer.zero_grad()\n",
    "        l.backward()\n",
    "        optimizer.step()\n",
    "\n",
    "        cnt += 1\n",
    "\n",
    "    train_loss /= cnt\n",
    "\n",
    "    model.train(False)\n",
    "\n",
    "    val_loss = 0\n",
    "    cnt = 0\n",
    "    for i, batch in enumerate(test_dataloader):\n",
    "        X, y = batch[0].to(device), batch[1].to(device)\n",
    "\n",
    "        with torch.no_grad():\n",
    "            out = model(X)\n",
    "            l = loss(out, y)\n",
    "\n",
    "            val_loss += l\n",
    "\n",
    "        cnt += 1\n",
    "\n",
    "    val_loss /= cnt\n",
    "\n",
    "    if epoch % 100 == 0:\n",
    "        print(f\"[ Epoch {epoch} / {EPOCHS} ] Train loss = {train_loss} Val loss = {val_loss}\")"
   ]
  },
  {
   "cell_type": "markdown",
   "id": "f4d3d2d6",
   "metadata": {},
   "source": [
    "## Evaluation"
   ]
  },
  {
   "cell_type": "code",
   "execution_count": 19,
   "id": "427796fe",
   "metadata": {},
   "outputs": [
    {
     "data": {
      "text/plain": [
       "Text(0.5, 1.0, 'Test data')"
      ]
     },
     "execution_count": 19,
     "metadata": {},
     "output_type": "execute_result"
    },
    {
     "data": {
      "image/png": "[encoded data removed]",
      "text/plain": [
       "<Figure size 1600x600 with 2 Axes>"
      ]
     },
     "metadata": {},
     "output_type": "display_data"
    }
   ],
   "source": [
    "fig, ax = plt.subplots(1, 2, figsize=(16, 6))\n",
    "\n",
    "with torch.no_grad():\n",
    "    y_pred = model(X_train.to(device)).to(\"cpu\")\n",
    "    y_pred = np.array(y_pred)\n",
    "\n",
    "ax[0].plot(y_train, color=\"black\", label = \"True\")\n",
    "ax[0].plot(y_pred, color=\"red\", label = \"Predicted\")\n",
    "ax[0].set_title(\"Train data\")\n",
    "\n",
    "with torch.no_grad():\n",
    "    y_pred = model(X_test.to(device)).to(\"cpu\")\n",
    "    y_pred = np.array(y_pred)\n",
    "\n",
    "ax[1].plot(y_test, color=\"black\", label = \"True\")\n",
    "ax[1].plot(y_pred, color=\"red\", label = \"Predicted\")\n",
    "ax[1].set_title(\"Test data\")\n"
   ]
  }
 ],
 "metadata": {
  "kernelspec": {
   "display_name": ".venv",
   "language": "python",
   "name": "python3"
  },
  "language_info": {
   "codemirror_mode": {
    "name": "ipython",
    "version": 3
   },
   "file_extension": ".py",
   "mimetype": "text/x-python",
   "name": "python",
   "nbconvert_exporter": "python",
   "pygments_lexer": "ipython3",
   "version": "3.12.2"
  }
 },
 "nbformat": 4,
 "nbformat_minor": 5
}
