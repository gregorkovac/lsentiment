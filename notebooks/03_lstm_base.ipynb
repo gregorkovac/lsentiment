{
 "cells": [
  {
   "cell_type": "markdown",
   "id": "08b0a84b",
   "metadata": {},
   "source": [
    "# LSTM with base stock market data"
   ]
  },
  {
   "cell_type": "code",
   "execution_count": 2,
   "id": "33863c81",
   "metadata": {},
   "outputs": [],
   "source": [
    "import pandas as pd\n",
    "import matplotlib.pyplot as plt\n",
    "import importlib\n",
    "import torch\n",
    "from torch import nn\n",
    "from torch.utils.data import Dataset, DataLoader\n",
    "from tqdm import tqdm\n",
    "import os\n",
    "import sys\n",
    "import numpy as np\n",
    "sys.path.append(os.path.abspath(os.path.join(os.getcwd(), \"..\")))\n",
    "\n",
    "import src.preprocess_data as preprocess_data\n",
    "\n",
    "importlib.reload(preprocess_data)\n",
    "\n",
    "# Set seeds for reproducibility\n",
    "np.random.seed(0)\n",
    "torch.manual_seed(0)\n",
    "\n",
    "# Set PyTorch device\n",
    "device = torch.device(\"cuda\" if torch.cuda.is_available() else \"cpu\")"
   ]
  },
  {
   "cell_type": "code",
   "execution_count": 13,
   "id": "8cba2d0e",
   "metadata": {},
   "outputs": [],
   "source": [
    "DATA_PATH = \"../data/processed/stocks.csv\"\n",
    "\n",
    "FOCUS_PRICE = \"Close\"\n",
    "FOCUS_STOCK = \"AAPL\"\n",
    "\n",
    "WINDOW_SIZE = 3\n",
    "BATCH_SIZE = 16\n",
    "LEARNING_RATE = 0.001\n",
    "EPOCHS = 1000\n",
    "\n",
    "LSTM_HIDDEN_SIZE = 2\n",
    "LSTM_NUM_LAYERS = 1"
   ]
  },
  {
   "cell_type": "markdown",
   "id": "4d524101",
   "metadata": {},
   "source": [
    "## Data Preparation"
   ]
  },
  {
   "cell_type": "markdown",
   "id": "844136a1",
   "metadata": {},
   "source": [
    "### Processing"
   ]
  },
  {
   "cell_type": "code",
   "execution_count": 6,
   "id": "6745d5a9",
   "metadata": {},
   "outputs": [
    {
     "name": "stdout",
     "output_type": "stream",
     "text": [
      "997\n"
     ]
    },
    {
     "data": {
      "text/html": [
       "<div>\n",
       "<style scoped>\n",
       "    .dataframe tbody tr th:only-of-type {\n",
       "        vertical-align: middle;\n",
       "    }\n",
       "\n",
       "    .dataframe tbody tr th {\n",
       "        vertical-align: top;\n",
       "    }\n",
       "\n",
       "    .dataframe thead th {\n",
       "        text-align: right;\n",
       "    }\n",
       "</style>\n",
       "<table border=\"1\" class=\"dataframe\">\n",
       "  <thead>\n",
       "    <tr style=\"text-align: right;\">\n",
       "      <th></th>\n",
       "      <th>Close</th>\n",
       "      <th>Close-3</th>\n",
       "      <th>Close-2</th>\n",
       "      <th>Close-1</th>\n",
       "    </tr>\n",
       "    <tr>\n",
       "      <th>Date</th>\n",
       "      <th></th>\n",
       "      <th></th>\n",
       "      <th></th>\n",
       "      <th></th>\n",
       "    </tr>\n",
       "  </thead>\n",
       "  <tbody>\n",
       "    <tr>\n",
       "      <th>2009-04-09</th>\n",
       "      <td>24.750000</td>\n",
       "      <td>23.150000</td>\n",
       "      <td>22.549999</td>\n",
       "      <td>22.799999</td>\n",
       "    </tr>\n",
       "    <tr>\n",
       "      <th>2009-04-13</th>\n",
       "      <td>26.850000</td>\n",
       "      <td>22.549999</td>\n",
       "      <td>22.799999</td>\n",
       "      <td>24.750000</td>\n",
       "    </tr>\n",
       "    <tr>\n",
       "      <th>2009-04-14</th>\n",
       "      <td>24.350000</td>\n",
       "      <td>22.799999</td>\n",
       "      <td>24.750000</td>\n",
       "      <td>26.850000</td>\n",
       "    </tr>\n",
       "    <tr>\n",
       "      <th>2009-04-15</th>\n",
       "      <td>24.150000</td>\n",
       "      <td>24.750000</td>\n",
       "      <td>26.850000</td>\n",
       "      <td>24.350000</td>\n",
       "    </tr>\n",
       "    <tr>\n",
       "      <th>2009-04-16</th>\n",
       "      <td>24.000000</td>\n",
       "      <td>26.850000</td>\n",
       "      <td>24.350000</td>\n",
       "      <td>24.150000</td>\n",
       "    </tr>\n",
       "    <tr>\n",
       "      <th>2009-04-17</th>\n",
       "      <td>24.750000</td>\n",
       "      <td>24.350000</td>\n",
       "      <td>24.150000</td>\n",
       "      <td>24.000000</td>\n",
       "    </tr>\n",
       "    <tr>\n",
       "      <th>2009-04-20</th>\n",
       "      <td>25.000000</td>\n",
       "      <td>24.150000</td>\n",
       "      <td>24.000000</td>\n",
       "      <td>24.750000</td>\n",
       "    </tr>\n",
       "    <tr>\n",
       "      <th>2009-04-21</th>\n",
       "      <td>25.799999</td>\n",
       "      <td>24.000000</td>\n",
       "      <td>24.750000</td>\n",
       "      <td>25.000000</td>\n",
       "    </tr>\n",
       "    <tr>\n",
       "      <th>2009-04-22</th>\n",
       "      <td>26.500000</td>\n",
       "      <td>24.750000</td>\n",
       "      <td>25.000000</td>\n",
       "      <td>25.799999</td>\n",
       "    </tr>\n",
       "    <tr>\n",
       "      <th>2009-04-23</th>\n",
       "      <td>26.750000</td>\n",
       "      <td>25.000000</td>\n",
       "      <td>25.799999</td>\n",
       "      <td>26.500000</td>\n",
       "    </tr>\n",
       "  </tbody>\n",
       "</table>\n",
       "</div>"
      ],
      "text/plain": [
       "                Close    Close-3    Close-2    Close-1\n",
       "Date                                                  \n",
       "2009-04-09  24.750000  23.150000  22.549999  22.799999\n",
       "2009-04-13  26.850000  22.549999  22.799999  24.750000\n",
       "2009-04-14  24.350000  22.799999  24.750000  26.850000\n",
       "2009-04-15  24.150000  24.750000  26.850000  24.350000\n",
       "2009-04-16  24.000000  26.850000  24.350000  24.150000\n",
       "2009-04-17  24.750000  24.350000  24.150000  24.000000\n",
       "2009-04-20  25.000000  24.150000  24.000000  24.750000\n",
       "2009-04-21  25.799999  24.000000  24.750000  25.000000\n",
       "2009-04-22  26.500000  24.750000  25.000000  25.799999\n",
       "2009-04-23  26.750000  25.000000  25.799999  26.500000"
      ]
     },
     "metadata": {},
     "output_type": "display_data"
    }
   ],
   "source": [
    "df_stocks = pd.read_csv(DATA_PATH)\n",
    "\n",
    "# TODO: Expand this or use tweets from a larger period of time\n",
    "# df_stocks = df_stocks[df_stocks[\"Name\"] == FOCUS_STOCK]\n",
    "df_stocks = df_stocks[:1000]\n",
    "\n",
    "df_stocks = df_stocks[[\"Date\", FOCUS_PRICE]]\n",
    "df_stocks[\"Date\"] = df_stocks[\"Date\"].apply(preprocess_data.convert_date)\n",
    "\n",
    "df_stocks.set_index(\"Date\", inplace=True)\n",
    "\n",
    "df_stocks = preprocess_data.apply_time_window(df = df_stocks,\n",
    "                                              price_col_name=FOCUS_PRICE,\n",
    "                                              n = WINDOW_SIZE)\n",
    "\n",
    "print(len(df_stocks))\n",
    "display(df_stocks.head(10))"
   ]
  },
  {
   "cell_type": "markdown",
   "id": "c40bf5a2",
   "metadata": {},
   "source": [
    "### Conversion to PyTorch, data splitting"
   ]
  },
  {
   "cell_type": "code",
   "execution_count": 7,
   "id": "18483a18",
   "metadata": {},
   "outputs": [
    {
     "name": "stdout",
     "output_type": "stream",
     "text": [
      "(997, 3, 1) (997, 1)\n"
     ]
    }
   ],
   "source": [
    "Xy = df_stocks.to_numpy()\n",
    "X = Xy[:, 1:]\n",
    "X = np.expand_dims(X, axis=-1)\n",
    "\n",
    "y = Xy[:, :1]\n",
    "\n",
    "print(X.shape, y.shape)"
   ]
  },
  {
   "cell_type": "code",
   "execution_count": 8,
   "id": "65eb75eb",
   "metadata": {},
   "outputs": [
    {
     "name": "stdout",
     "output_type": "stream",
     "text": [
      "torch.Size([797, 3, 1]) torch.Size([797, 1])\n",
      "torch.Size([200, 3, 1]) torch.Size([200, 1])\n"
     ]
    }
   ],
   "source": [
    "split = int(len(X) * 0.8)\n",
    "\n",
    "X_train, y_train = X[:split], y[:split]\n",
    "X_test, y_test = X[split:], y[split:]\n",
    "\n",
    "X_train = torch.tensor(X_train, dtype=torch.float32)\n",
    "y_train = torch.tensor(y_train, dtype=torch.float32)\n",
    "X_test = torch.tensor(X_test, dtype=torch.float32)\n",
    "y_test = torch.tensor(y_test, dtype=torch.float32)\n",
    "\n",
    "print(X_train.shape, y_train.shape)\n",
    "print(X_test.shape, y_test.shape)"
   ]
  },
  {
   "cell_type": "markdown",
   "id": "f287eeda",
   "metadata": {},
   "source": [
    "### Dataset and DataLoaders"
   ]
  },
  {
   "cell_type": "code",
   "execution_count": 9,
   "id": "bb09fb97",
   "metadata": {},
   "outputs": [],
   "source": [
    "class StockDataset(Dataset):\n",
    "    def __init__(self, X, y):\n",
    "        self.X = X\n",
    "        self.y = y\n",
    "        self.len = len(X)\n",
    "\n",
    "    def __len__(self):\n",
    "        return self.len\n",
    "    \n",
    "    def __getitem__(self, i):\n",
    "        return self.X[i], self.y[i]"
   ]
  },
  {
   "cell_type": "code",
   "execution_count": 10,
   "id": "b3cd228a",
   "metadata": {},
   "outputs": [],
   "source": [
    "train_dataset = StockDataset(X_train, y_train)\n",
    "test_dataset = StockDataset(X_test, y_test)\n",
    "\n",
    "train_dataloader = DataLoader(train_dataset, batch_size=BATCH_SIZE, shuffle=True)\n",
    "test_dataloader = DataLoader(test_dataset, batch_size=BATCH_SIZE, shuffle=False)"
   ]
  },
  {
   "cell_type": "markdown",
   "id": "d2598d89",
   "metadata": {},
   "source": [
    "## Modelling"
   ]
  },
  {
   "cell_type": "markdown",
   "id": "555e17e9",
   "metadata": {},
   "source": [
    "### Model"
   ]
  },
  {
   "cell_type": "code",
   "execution_count": 11,
   "id": "f7e64db1",
   "metadata": {},
   "outputs": [],
   "source": [
    "class LSTM(nn.Module):\n",
    "    def __init__(self, input_size, hidden_size, num_layers):\n",
    "        super().__init__()\n",
    "\n",
    "        self.input_size = input_size\n",
    "        self.hidden_size = hidden_size\n",
    "        self.num_layers = num_layers\n",
    "\n",
    "        self.lstm = nn.LSTM(input_size=input_size,\n",
    "                            hidden_size=hidden_size,\n",
    "                            num_layers=num_layers,\n",
    "                            batch_first=True)\n",
    "        \n",
    "        self.fc = nn.Linear(hidden_size, 1)\n",
    "\n",
    "    def forward(self, x):\n",
    "        batch_size = x.size(0)\n",
    "\n",
    "        h_0 = torch.zeros(self.num_layers, batch_size, self.hidden_size).to(device)\n",
    "        c_0 = torch.zeros(self.num_layers, batch_size, self.hidden_size).to(device)\n",
    "\n",
    "        x, _ = self.lstm(x, (h_0, c_0))\n",
    "        x = self.fc(x[:, -1, :])\n",
    "        \n",
    "        return x"
   ]
  },
  {
   "cell_type": "markdown",
   "id": "cf47282e",
   "metadata": {},
   "source": [
    "### Training"
   ]
  },
  {
   "cell_type": "code",
   "execution_count": 15,
   "id": "62ad0e38",
   "metadata": {},
   "outputs": [
    {
     "name": "stdout",
     "output_type": "stream",
     "text": [
      "[ Epoch 0 / 1000 ] Train loss = 232.1519775390625 Val loss = 46.89017105102539\n",
      "[ Epoch 100 / 1000 ] Train loss = 51.830013275146484 Val loss = 0.8668016195297241\n",
      "[ Epoch 200 / 1000 ] Train loss = 12.523987770080566 Val loss = 0.4925445318222046\n",
      "[ Epoch 300 / 1000 ] Train loss = 3.753842353820801 Val loss = 0.5209600925445557\n",
      "[ Epoch 400 / 1000 ] Train loss = 3.0427980422973633 Val loss = 0.5738399028778076\n",
      "[ Epoch 500 / 1000 ] Train loss = 2.912663459777832 Val loss = 0.5446692705154419\n",
      "[ Epoch 600 / 1000 ] Train loss = 2.889510154724121 Val loss = 0.5333665609359741\n",
      "[ Epoch 700 / 1000 ] Train loss = 2.8857505321502686 Val loss = 0.5472115278244019\n",
      "[ Epoch 800 / 1000 ] Train loss = 2.8631255626678467 Val loss = 0.49192240834236145\n",
      "[ Epoch 900 / 1000 ] Train loss = 2.933910608291626 Val loss = 0.4953416585922241\n"
     ]
    }
   ],
   "source": [
    "model = LSTM(input_size=1,\n",
    "             hidden_size=LSTM_HIDDEN_SIZE,\n",
    "             num_layers=LSTM_NUM_LAYERS).to(device)\n",
    "\n",
    "loss = nn.MSELoss()\n",
    "optimizer = torch.optim.Adam(model.parameters(),\n",
    "                             lr=LEARNING_RATE)\n",
    "\n",
    "for epoch in range(EPOCHS):\n",
    "    model.train(True)\n",
    "\n",
    "    train_loss = 0\n",
    "    cnt = 0\n",
    "    for i, batch in enumerate(train_dataloader):\n",
    "        X, y = batch[0].to(device), batch[1].to(device)\n",
    "\n",
    "        out = model(X)\n",
    "        l = loss(out, y)\n",
    "        train_loss += l\n",
    "\n",
    "        optimizer.zero_grad()\n",
    "        l.backward()\n",
    "        optimizer.step()\n",
    "\n",
    "        cnt += 1\n",
    "\n",
    "    train_loss /= cnt\n",
    "\n",
    "    model.train(False)\n",
    "\n",
    "    val_loss = 0\n",
    "    cnt = 0\n",
    "    for i, batch in enumerate(test_dataloader):\n",
    "        X, y = batch[0].to(device), batch[1].to(device)\n",
    "\n",
    "        with torch.no_grad():\n",
    "            out = model(X)\n",
    "            l = loss(out, y)\n",
    "\n",
    "            val_loss += l\n",
    "\n",
    "        cnt += 1\n",
    "\n",
    "    val_loss /= cnt\n",
    "\n",
    "    if epoch % 100 == 0:\n",
    "        print(f\"[ Epoch {epoch} / {EPOCHS} ] Train loss = {train_loss} Val loss = {val_loss}\")"
   ]
  },
  {
   "cell_type": "markdown",
   "id": "f4d3d2d6",
   "metadata": {},
   "source": [
    "## Evaluation"
   ]
  },
  {
   "cell_type": "code",
   "execution_count": null,
   "id": "427796fe",
   "metadata": {},
   "outputs": [
    {
     "data": {
      "text/plain": [
       "Text(0.5, 1.0, 'Test data')"
      ]
     },
     "execution_count": 16,
     "metadata": {},
     "output_type": "execute_result"
    },
    {
     "data": {
      "image/png": "[encoded data removed]",
      "text/plain": [
       "<Figure size 1600x600 with 2 Axes>"
      ]
     },
     "metadata": {},
     "output_type": "display_data"
    }
   ],
   "source": [
    "fig, ax = plt.subplots(1, 2, figsize=(16, 6))\n",
    "\n",
    "with torch.no_grad():\n",
    "    y_pred = model(X_train.to(device)).to(\"cpu\")\n",
    "    y_pred = np.array(y_pred)\n",
    "\n",
    "ax[0].plot(y_train, color=\"black\", label = \"True\")\n",
    "ax[0].plot(y_pred, color=\"red\", label = \"Predicted\")\n",
    "ax[0].set_title(\"Train data\")\n",
    "\n",
    "with torch.no_grad():\n",
    "    y_pred = model(X_test.to(device)).to(\"cpu\")\n",
    "    y_pred = np.array(y_pred)\n",
    "\n",
    "ax[1].plot(y_test, color=\"black\", label = \"True\")\n",
    "ax[1].plot(y_pred, color=\"red\", label = \"Predicted\")\n",
    "ax[1].set_title(\"Test data\")\n"
   ]
  }
 ],
 "metadata": {
  "kernelspec": {
   "display_name": ".venv",
   "language": "python",
   "name": "python3"
  },
  "language_info": {
   "codemirror_mode": {
    "name": "ipython",
    "version": 3
   },
   "file_extension": ".py",
   "mimetype": "text/x-python",
   "name": "python",
   "nbconvert_exporter": "python",
   "pygments_lexer": "ipython3",
   "version": "3.12.2"
  }
 },
 "nbformat": 4,
 "nbformat_minor": 5
}
